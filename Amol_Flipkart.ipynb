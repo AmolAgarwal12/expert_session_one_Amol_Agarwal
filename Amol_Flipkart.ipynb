{
 "cells": [
  {
   "cell_type": "code",
   "execution_count": 1,
   "id": "eeeb4cfe",
   "metadata": {},
   "outputs": [],
   "source": [
    "# Import the needed modules...\n",
    "import pandas as pd\n",
    "from collections import defaultdict\n",
    "from os import getcwd\n",
    "\n",
    "import glob"
   ]
  },
  {
   "cell_type": "code",
   "execution_count": 2,
   "id": "16609113",
   "metadata": {},
   "outputs": [],
   "source": [
    "PATH_BOOKS   = f\"{getcwd()}/dataStore/books.csv\"\n",
    "PATH_FOOD  = f\"{getcwd()}/dataStore/food.csv\"\n",
    "PATH_LAPTOPS = f\"{getcwd()}/dataStore/laptops.csv\"\n",
    "PATH_MOBILES = f\"{getcwd()}/dataStore/mobiles.csv\""
   ]
  },
  {
   "cell_type": "code",
   "execution_count": null,
   "id": "6c27fe95",
   "metadata": {},
   "outputs": [],
   "source": []
  },
  {
   "cell_type": "code",
   "execution_count": 3,
   "id": "d8a3214a",
   "metadata": {},
   "outputs": [
    {
     "name": "stdout",
     "output_type": "stream",
     "text": [
      "COLUMNS : ['ProductName', 'Price', 'OriginalPrices', 'Discountrates', 'Ratings']\n"
     ]
    }
   ],
   "source": [
    "\"\"\"\n",
    "    Read data from laptops.csv\n",
    "\"\"\"\n",
    "df_laptops            = pd.read_csv(PATH_LAPTOPS)\n",
    "laptops_table_columns = df_laptops.columns.tolist()\n",
    "print(f\"COLUMNS : {laptops_table_columns}\")"
   ]
  },
  {
   "cell_type": "code",
   "execution_count": 4,
   "id": "d69d33db",
   "metadata": {},
   "outputs": [
    {
     "name": "stdout",
     "output_type": "stream",
     "text": [
      "COLUMNS : ['ProductName', 'Price', 'OriginalPrices', 'Discountrates']\n"
     ]
    }
   ],
   "source": [
    "\"\"\"\n",
    "    Read data from books.csv\n",
    "\"\"\"\n",
    "df_books            = pd.read_csv(PATH_BOOKS)\n",
    "books_table_columns = df_books.columns.tolist()\n",
    "print(f\"COLUMNS : {books_table_columns}\")"
   ]
  },
  {
   "cell_type": "code",
   "execution_count": 5,
   "id": "bd4b45c5",
   "metadata": {},
   "outputs": [
    {
     "name": "stdout",
     "output_type": "stream",
     "text": [
      "COLUMNS : ['ProductName', 'Price', 'OriginalPrices', 'Discountrates']\n"
     ]
    }
   ],
   "source": [
    "\"\"\"\n",
    "    Read data from food.csv\n",
    "\"\"\"\n",
    "df_food         = pd.read_csv(PATH_FOOD)\n",
    "path_table_columns = df_food.columns.tolist()\n",
    "print(f\"COLUMNS : {path_table_columns}\")"
   ]
  },
  {
   "cell_type": "code",
   "execution_count": 6,
   "id": "dccc7cf3",
   "metadata": {},
   "outputs": [
    {
     "name": "stdout",
     "output_type": "stream",
     "text": [
      "COLUMNS : ['ProductName', 'Price', 'OriginalPrices', 'Discountrates', 'Ratings']\n"
     ]
    }
   ],
   "source": [
    "\"\"\"\n",
    "    Read data from mobiles.csv\n",
    "\"\"\"\n",
    "df_mobiles           = pd.read_csv(PATH_MOBILES)\n",
    "mobiles_table_columns = df_mobiles.columns.tolist()\n",
    "print(f\"COLUMNS : {mobiles_table_columns}\")"
   ]
  },
  {
   "cell_type": "code",
   "execution_count": 7,
   "id": "9550f3c7",
   "metadata": {},
   "outputs": [
    {
     "name": "stdout",
     "output_type": "stream",
     "text": [
      "It is False  that the column 'Product Name' has unique values for all entries in movies dataframe.\n",
      "It is False  that the column 'Product Name' has unique values for all entries in links dataframe.\n",
      "It is False that the column 'Product Name'  has unique values for all entries in ratings dataframe.\n",
      "It is False that the column 'Product Name'  has unique values for all entries in tags dataframe.\n"
     ]
    }
   ],
   "source": [
    "print(f\"It is {pd.Series(df_laptops['ProductName']).is_unique}  that the column 'Product Name' has unique values for all entries in movies dataframe.\")\n",
    "print(f\"It is {pd.Series(df_books['ProductName']).is_unique}  that the column 'Product Name' has unique values for all entries in links dataframe.\")\n",
    "print(f\"It is {pd.Series(df_food['ProductName']).is_unique} that the column 'Product Name'  has unique values for all entries in ratings dataframe.\")\n",
    "print(f\"It is {pd.Series(df_mobiles['ProductName']).is_unique} that the column 'Product Name'  has unique values for all entries in tags dataframe.\")\n",
    "\n",
    "# Sort movie dataframe on the basis of movieId as movieId is unique for all entries...\n",
    "df_laptops_sorted = df_laptops.sort_values(by=['ProductName'])\n",
    "\n",
    "# Sort links dataframe on the basis of movieId as movieId is unique for all entries...\n",
    "df_books_sorted  = df_books.sort_values(by=['ProductName'])\n",
    "df_food_sorted  = df_food.sort_values(by=['ProductName'])\n",
    "df_mobiles_sorted  = df_mobiles.sort_values(by=['ProductName'])"
   ]
  },
  {
   "cell_type": "code",
   "execution_count": 8,
   "id": "1fc242a0",
   "metadata": {},
   "outputs": [],
   "source": [
    "extension = 'csv'\n",
    "all_filenames = [i for i in glob.glob('*.{}'.format(extension))]"
   ]
  },
  {
   "cell_type": "code",
   "execution_count": 9,
   "id": "8b063fa0",
   "metadata": {},
   "outputs": [],
   "source": [
    "#combine all files in the list\n",
    "combined_csv = pd.concat([pd.read_csv(f) for f in all_filenames ])\n",
    "#export to csv\n",
    "combined_csv.to_csv( \"combined_csv.csv\", index=False, encoding='utf-8-sig')"
   ]
  },
  {
   "cell_type": "code",
   "execution_count": null,
   "id": "c3b622f8",
   "metadata": {},
   "outputs": [],
   "source": [
    "import csv\n",
    "import sys\n",
    "\n",
    "#input number you want to search\n",
    "product_name = input('Enter number to find\\n')\n",
    "\n",
    "#read csv, and split on \",\" the line\n",
    "csv_file = csv.reader(open('combined_csv.csv', \"r\"), delimiter=\",\")\n",
    "\n",
    "\n",
    "#loop through the csv list\n",
    "for product in csv_file:\n",
    "    #if current rows 2nd value is equal to input, print that row\n",
    "    if product_name  == product[1]:\n",
    "         print (product)"
   ]
  }
 ],
 "metadata": {
  "kernelspec": {
   "display_name": "Python 3",
   "language": "python",
   "name": "python3"
  },
  "language_info": {
   "codemirror_mode": {
    "name": "ipython",
    "version": 3
   },
   "file_extension": ".py",
   "mimetype": "text/x-python",
   "name": "python",
   "nbconvert_exporter": "python",
   "pygments_lexer": "ipython3",
   "version": "3.8.8"
  }
 },
 "nbformat": 4,
 "nbformat_minor": 5
}
